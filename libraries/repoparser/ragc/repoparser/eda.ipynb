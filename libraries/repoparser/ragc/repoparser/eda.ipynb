{
 "cells": [
  {
   "cell_type": "code",
   "execution_count": 18,
   "metadata": {},
   "outputs": [],
   "source": [
    "from pathlib import Path\n",
    "\n",
    "import tree_sitter_python as tspython\n",
    "from tree_sitter import Language, Parser\n",
    "\n",
    "PY_LANGUAGE = Language(tspython.language())"
   ]
  },
  {
   "cell_type": "code",
   "execution_count": 14,
   "metadata": {},
   "outputs": [
    {
     "data": {
      "text/plain": [
       "<Language id=4426612744, version=14>"
      ]
     },
     "execution_count": 14,
     "metadata": {},
     "output_type": "execute_result"
    }
   ],
   "source": [
    "PY_LANGUAGE"
   ]
  },
  {
   "cell_type": "code",
   "execution_count": 15,
   "metadata": {},
   "outputs": [],
   "source": [
    "parser = Parser(PY_LANGUAGE)"
   ]
  },
  {
   "cell_type": "code",
   "execution_count": null,
   "metadata": {},
   "outputs": [],
   "source": []
  },
  {
   "cell_type": "code",
   "execution_count": 20,
   "metadata": {},
   "outputs": [
    {
     "data": {
      "text/plain": [
       "PosixPath('eda.ipynb')"
      ]
     },
     "execution_count": 20,
     "metadata": {},
     "output_type": "execute_result"
    }
   ],
   "source": [
    "next(Path(\".\").iterdir())"
   ]
  },
  {
   "cell_type": "code",
   "execution_count": 22,
   "metadata": {},
   "outputs": [],
   "source": [
    "data_path = \"/Users/konstfed/Documents/diplom/RAGC/data/repositories/evol-music/accompaniment/evol-accomp.py\"\n",
    "with open(data_path, \"rb\") as f:\n",
    "    tree = parser.parse(f.read())"
   ]
  },
  {
   "cell_type": "code",
   "execution_count": 25,
   "metadata": {},
   "outputs": [
    {
     "data": {
      "text/plain": [
       "[<Node type=import_statement, start_point=(0, 0), end_point=(0, 13)>,\n",
       " <Node type=import_statement, start_point=(1, 0), end_point=(1, 9)>,\n",
       " <Node type=import_statement, start_point=(2, 0), end_point=(2, 15)>,\n",
       " <Node type=import_statement, start_point=(3, 0), end_point=(3, 15)>,\n",
       " <Node type=import_from_statement, start_point=(4, 0), end_point=(4, 69)>,\n",
       " <Node type=import_statement, start_point=(6, 0), end_point=(6, 14)>,\n",
       " <Node type=try_statement, start_point=(8, 0), end_point=(12, 18)>,\n",
       " <Node type=try_statement, start_point=(14, 0), end_point=(20, 25)>,\n",
       " <Node type=expression_statement, start_point=(22, 0), end_point=(30, 1)>,\n",
       " <Node type=expression_statement, start_point=(32, 0), end_point=(40, 1)>,\n",
       " <Node type=expression_statement, start_point=(42, 0), end_point=(48, 1)>,\n",
       " <Node type=expression_statement, start_point=(50, 0), end_point=(55, 1)>,\n",
       " <Node type=function_definition, start_point=(58, 0), end_point=(62, 70)>,\n",
       " <Node type=function_definition, start_point=(65, 0), end_point=(69, 71)>,\n",
       " <Node type=function_definition, start_point=(72, 0), end_point=(82, 16)>,\n",
       " <Node type=function_definition, start_point=(85, 0), end_point=(95, 16)>,\n",
       " <Node type=function_definition, start_point=(98, 0), end_point=(107, 19)>,\n",
       " <Node type=function_definition, start_point=(110, 0), end_point=(116, 44)>,\n",
       " <Node type=function_definition, start_point=(119, 0), end_point=(126, 16)>,\n",
       " <Node type=function_definition, start_point=(129, 0), end_point=(139, 15)>,\n",
       " <Node type=function_definition, start_point=(142, 0), end_point=(146, 53)>,\n",
       " <Node type=function_definition, start_point=(149, 0), end_point=(163, 17)>,\n",
       " <Node type=function_definition, start_point=(166, 0), end_point=(179, 105)>,\n",
       " <Node type=function_definition, start_point=(182, 0), end_point=(206, 26)>,\n",
       " <Node type=function_definition, start_point=(209, 0), end_point=(213, 45)>,\n",
       " <Node type=expression_statement, start_point=(216, 0), end_point=(216, 38)>,\n",
       " <Node type=expression_statement, start_point=(217, 0), end_point=(217, 38)>,\n",
       " <Node type=function_definition, start_point=(220, 0), end_point=(241, 12)>,\n",
       " <Node type=function_definition, start_point=(244, 0), end_point=(259, 16)>,\n",
       " <Node type=function_definition, start_point=(262, 0), end_point=(273, 34)>,\n",
       " <Node type=function_definition, start_point=(276, 0), end_point=(291, 21)>,\n",
       " <Node type=function_definition, start_point=(294, 0), end_point=(315, 28)>,\n",
       " <Node type=function_definition, start_point=(318, 0), end_point=(333, 30)>,\n",
       " <Node type=if_statement, start_point=(336, 0), end_point=(349, 66)>]"
      ]
     },
     "execution_count": 25,
     "metadata": {},
     "output_type": "execute_result"
    }
   ],
   "source": [
    "tree.root_node.children"
   ]
  },
  {
   "cell_type": "code",
   "execution_count": null,
   "metadata": {},
   "outputs": [],
   "source": [
    "from tre"
   ]
  }
 ],
 "metadata": {
  "kernelspec": {
   "display_name": ".venv",
   "language": "python",
   "name": "python3"
  },
  "language_info": {
   "codemirror_mode": {
    "name": "ipython",
    "version": 3
   },
   "file_extension": ".py",
   "mimetype": "text/x-python",
   "name": "python",
   "nbconvert_exporter": "python",
   "pygments_lexer": "ipython3",
   "version": "3.11.9"
  }
 },
 "nbformat": 4,
 "nbformat_minor": 2
}
