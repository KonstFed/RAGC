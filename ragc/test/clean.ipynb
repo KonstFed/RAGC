{
 "cells": [
  {
   "cell_type": "code",
   "execution_count": 25,
   "id": "4e8975fa",
   "metadata": {},
   "outputs": [],
   "source": [
    "import pandas as pd\n",
    "import black\n",
    "\n",
    "from ragc.graphs.ast_tools import extract_function_info, PythonExtractHelper, to_zero_ident"
   ]
  },
  {
   "cell_type": "code",
   "execution_count": 26,
   "id": "9b622b5d",
   "metadata": {},
   "outputs": [],
   "source": [
    "\n",
    "# with ope\n",
    "with open(\"/Users/konstfed/Documents/diplom/RAGC/data/evocodebench/data.jsonl\") as f:\n",
    "    tasks = pd.read_json(f, lines=True)"
   ]
  },
  {
   "cell_type": "code",
   "execution_count": 27,
   "id": "086bafba",
   "metadata": {},
   "outputs": [],
   "source": [
    "# with ope\n",
    "with open(\"/Users/konstfed/Documents/diplom/RAGC/data/no_context_codellama7b.jsonl\") as f:\n",
    "    output = pd.read_json(f, lines=True)\n",
    "    \n",
    "output_raw = output.copy()"
   ]
  },
  {
   "cell_type": "code",
   "execution_count": 28,
   "id": "1cda0e88",
   "metadata": {},
   "outputs": [
    {
     "data": {
      "text/plain": [
       "'\\nclass Extension:\\n    def get_data_dir(cls, config: Config):\\n        # Determine the data directory path based on the Mopidy config object\\n        data_dir = config[\"data_dir\"]\\n\\n        # Create the data directory if it doesn\\'t exist\\n        if not os.path.exists(data_dir):\\n            os.makedirs(data_dir)\\n\\n        return data_dir'"
      ]
     },
     "execution_count": 28,
     "metadata": {},
     "output_type": "execute_result"
    }
   ],
   "source": [
    "output[\"completion\"].iloc[1000]"
   ]
  },
  {
   "cell_type": "code",
   "execution_count": 29,
   "id": "b5ea6a2d",
   "metadata": {},
   "outputs": [],
   "source": [
    "helper = PythonExtractHelper()\n",
    "\n",
    "def cleaning(code: str) -> str:\n",
    "    code = code.replace(\"[PYTHON]\", \"\").replace(\"[/PYTHON]\", \"\")\n",
    "    code = code.strip()\n",
    "    code = code.strip(\"[PYTHON]\").strip(\"[/PYTHON]\")\n",
    "    code = code.strip(\"```python\").strip(\"``python\").strip(\"`python\")\n",
    "    code = code.strip(\"`\").strip()\n",
    "    code = to_zero_ident(code)\n",
    "    try:\n",
    "        code = black.format_str(code, mode=black.Mode())\n",
    "        code = helper.extract_body(code)\n",
    "    finally:\n",
    "        return code\n",
    "\n",
    "output[\"completion\"] = output[\"completion\"].apply(cleaning)"
   ]
  },
  {
   "cell_type": "code",
   "execution_count": 30,
   "id": "c4f25de0",
   "metadata": {},
   "outputs": [
    {
     "name": "stdout",
     "output_type": "stream",
     "text": [
      "def wrapper(func):\n",
      "    return func\n",
      "\n",
      "return wrapper\n"
     ]
    }
   ],
   "source": [
    "print(output[output[\"namespace\"] == \"alembic.script.write_hooks.register\"][\"completion\"].iloc[0])"
   ]
  },
  {
   "cell_type": "code",
   "execution_count": 31,
   "id": "ed198ebe",
   "metadata": {},
   "outputs": [
    {
     "data": {
      "text/html": [
       "<div>\n",
       "<style scoped>\n",
       "    .dataframe tbody tr th:only-of-type {\n",
       "        vertical-align: middle;\n",
       "    }\n",
       "\n",
       "    .dataframe tbody tr th {\n",
       "        vertical-align: top;\n",
       "    }\n",
       "\n",
       "    .dataframe thead th {\n",
       "        text-align: right;\n",
       "    }\n",
       "</style>\n",
       "<table border=\"1\" class=\"dataframe\">\n",
       "  <thead>\n",
       "    <tr style=\"text-align: right;\">\n",
       "      <th></th>\n",
       "      <th>namespace</th>\n",
       "      <th>completion</th>\n",
       "    </tr>\n",
       "  </thead>\n",
       "  <tbody>\n",
       "    <tr>\n",
       "      <th>0</th>\n",
       "      <td>benedict.utils.type_util.is_json_serializable</td>\n",
       "      <td>ere is the Python function for checking if the...</td>\n",
       "    </tr>\n",
       "    <tr>\n",
       "      <th>1</th>\n",
       "      <td>feedparser.urls.convert_to_idn</td>\n",
       "      <td>host = urlparse(url).hostname\\nif not all(c in...</td>\n",
       "    </tr>\n",
       "    <tr>\n",
       "      <th>2</th>\n",
       "      <td>mistune.toc.add_toc_hook</td>\n",
       "      <td>md.register([\"header\"], \"toc\")\\n\\ndef toc_rend...</td>\n",
       "    </tr>\n",
       "    <tr>\n",
       "      <th>3</th>\n",
       "      <td>mistune.plugins.table.table_in_quote</td>\n",
       "      <td>md.block.rules.append(\"table\")\\nmd.block.rules...</td>\n",
       "    </tr>\n",
       "    <tr>\n",
       "      <th>4</th>\n",
       "      <td>mistune.plugins.table.table_in_list</td>\n",
       "      <td>md.parser.blockprocessors.register(\"table\", Ta...</td>\n",
       "    </tr>\n",
       "    <tr>\n",
       "      <th>...</th>\n",
       "      <td>...</td>\n",
       "      <td>...</td>\n",
       "    </tr>\n",
       "    <tr>\n",
       "      <th>1776</th>\n",
       "      <td>boto.ec2.volume.Volume.attach</td>\n",
       "      <td>pass</td>\n",
       "    </tr>\n",
       "    <tr>\n",
       "      <th>1777</th>\n",
       "      <td>mrjob.hadoop.fully_qualify_hdfs_path</td>\n",
       "      <td>if path.startswith(\"hdfs://\"):\\n    return pat...</td>\n",
       "    </tr>\n",
       "    <tr>\n",
       "      <th>1778</th>\n",
       "      <td>boltons.tbutils.TracebackInfo.from_traceback</td>\n",
       "      <td>if tb is None:\\n    exc_type, exc_value, exc_t...</td>\n",
       "    </tr>\n",
       "    <tr>\n",
       "      <th>1779</th>\n",
       "      <td>jinja2.utils.LRUCache.items</td>\n",
       "      <td>return list(reversed(self._queue))</td>\n",
       "    </tr>\n",
       "    <tr>\n",
       "      <th>1780</th>\n",
       "      <td>praw.util.token_manager.SQLiteTokenManager.reg...</td>\n",
       "      <td>if self.get_refresh_token() is None:\\n    self...</td>\n",
       "    </tr>\n",
       "  </tbody>\n",
       "</table>\n",
       "<p>1781 rows × 2 columns</p>\n",
       "</div>"
      ],
      "text/plain": [
       "                                              namespace  \\\n",
       "0         benedict.utils.type_util.is_json_serializable   \n",
       "1                        feedparser.urls.convert_to_idn   \n",
       "2                              mistune.toc.add_toc_hook   \n",
       "3                  mistune.plugins.table.table_in_quote   \n",
       "4                   mistune.plugins.table.table_in_list   \n",
       "...                                                 ...   \n",
       "1776                      boto.ec2.volume.Volume.attach   \n",
       "1777               mrjob.hadoop.fully_qualify_hdfs_path   \n",
       "1778       boltons.tbutils.TracebackInfo.from_traceback   \n",
       "1779                        jinja2.utils.LRUCache.items   \n",
       "1780  praw.util.token_manager.SQLiteTokenManager.reg...   \n",
       "\n",
       "                                             completion  \n",
       "0     ere is the Python function for checking if the...  \n",
       "1     host = urlparse(url).hostname\\nif not all(c in...  \n",
       "2     md.register([\"header\"], \"toc\")\\n\\ndef toc_rend...  \n",
       "3     md.block.rules.append(\"table\")\\nmd.block.rules...  \n",
       "4     md.parser.blockprocessors.register(\"table\", Ta...  \n",
       "...                                                 ...  \n",
       "1776                                               pass  \n",
       "1777  if path.startswith(\"hdfs://\"):\\n    return pat...  \n",
       "1778  if tb is None:\\n    exc_type, exc_value, exc_t...  \n",
       "1779                 return list(reversed(self._queue))  \n",
       "1780  if self.get_refresh_token() is None:\\n    self...  \n",
       "\n",
       "[1781 rows x 2 columns]"
      ]
     },
     "execution_count": 31,
     "metadata": {},
     "output_type": "execute_result"
    }
   ],
   "source": [
    "output"
   ]
  },
  {
   "cell_type": "code",
   "execution_count": 32,
   "id": "4618bee9",
   "metadata": {},
   "outputs": [],
   "source": [
    "output[\"idx\"] = 0\n"
   ]
  },
  {
   "cell_type": "code",
   "execution_count": 33,
   "id": "a01f64cd",
   "metadata": {},
   "outputs": [],
   "source": [
    "jsonl_data = output.to_json(orient='records', lines=True)\n",
    "\n",
    "with open('/Users/konstfed/Documents/diplom/RAGC/data/no_context_codellama7b_cleaned.jsonl', 'w') as f:\n",
    "    f.write(jsonl_data)"
   ]
  },
  {
   "cell_type": "code",
   "execution_count": 7,
   "id": "699b43dd",
   "metadata": {},
   "outputs": [],
   "source": [
    "helper = PythonExtractHelper()"
   ]
  },
  {
   "cell_type": "code",
   "execution_count": 8,
   "id": "9a5fdd3e",
   "metadata": {},
   "outputs": [
    {
     "name": "stdout",
     "output_type": "stream",
     "text": [
      "if len(iterable) == 0:\n",
      "    return\n",
      "for i in range(0, len(iterable), n):\n",
      "    yield iterable[i : i + n], (i + n) >= len(iterable)\n"
     ]
    }
   ],
   "source": [
    "print(output[\"completion\"].iloc[100])"
   ]
  },
  {
   "cell_type": "code",
   "execution_count": 9,
   "id": "d70baba0",
   "metadata": {},
   "outputs": [
    {
     "name": "stdout",
     "output_type": "stream",
     "text": [
      "import unicodedata\n",
      "\n",
      "filename = (\n",
      "    unicodedata.normalize(\"NFKD\", filename).encode(\"ascii\", \"ignore\").decode(\"asci\")\n",
      ")\n",
      "filename = filename.strip().replace(\" \", \"_\")\n",
      "filename = filename.lstrip(\".\")\n",
      "return \"_\" + filename if filename.startswith(\".\") else filename\n"
     ]
    }
   ],
   "source": [
    "print(output[\"completion\"].iloc[1211])"
   ]
  },
  {
   "cell_type": "code",
   "execution_count": 10,
   "id": "976c54e3",
   "metadata": {},
   "outputs": [
    {
     "data": {
      "text/plain": [
       "'import unicodedata\\n\\nfilename = (\\n    unicodedata.normalize(\"NFKD\", filename).encode(\"ascii\", \"ignore\").decode(\"asci\")\\n)\\nfilename = filename.strip().replace(\" \", \"_\")\\nfilename = filename.lstrip(\".\")\\nreturn \"_\" + filename if filename.startswith(\".\") else filename'"
      ]
     },
     "execution_count": 10,
     "metadata": {},
     "output_type": "execute_result"
    }
   ],
   "source": [
    "to_zero_ident(output[\"completion\"].iloc[1211])"
   ]
  },
  {
   "cell_type": "code",
   "execution_count": 11,
   "id": "1eb72d62",
   "metadata": {},
   "outputs": [],
   "source": [
    "import unicodedata\n",
    "filename = \"\"\n",
    "filename = (\n",
    "        unicodedata.normalize(\"NFKD\", filename).encode(\"ascii\", \"ignore\").decode(\"asci\")\n",
    "    )"
   ]
  },
  {
   "cell_type": "code",
   "execution_count": 12,
   "id": "7d69b9cf",
   "metadata": {},
   "outputs": [
    {
     "data": {
      "text/plain": [
       "'import unicodedata\\n\\nfilename = (\\n    unicodedata.normalize(\"NFKD\", filename).encode(\"ascii\", \"ignore\").decode(\"asci\")\\n)\\nfilename = filename.strip().replace(\" \", \"_\")\\nfilename = filename.lstrip(\".\")\\nreturn \"_\" + filename if filename.startswith(\".\") else filename\\n'"
      ]
     },
     "execution_count": 12,
     "metadata": {},
     "output_type": "execute_result"
    }
   ],
   "source": [
    "black.format_str(output[\"completion\"].iloc[1211], mode=black.Mode())\n"
   ]
  },
  {
   "cell_type": "code",
   "execution_count": 9,
   "id": "8df51fc6",
   "metadata": {},
   "outputs": [
    {
     "name": "stdout",
     "output_type": "stream",
     "text": [
      "\n"
     ]
    }
   ],
   "source": [
    "ident_body = helper.extract_body(output[\"completion\"].iloc[1211])\n",
    "black.format_str(ident_body, mode=black.Mode())\n",
    "print(ident_body)"
   ]
  },
  {
   "cell_type": "code",
   "execution_count": 10,
   "id": "e19621cf",
   "metadata": {},
   "outputs": [
    {
     "data": {
      "text/plain": [
       "('get_data_dir(cls, config)', \"Get or create the extension's data directory.\")"
      ]
     },
     "execution_count": 10,
     "metadata": {},
     "output_type": "execute_result"
    }
   ],
   "source": [
    "extract_function_info(output[\"completion\"].iloc[1000])"
   ]
  },
  {
   "cell_type": "code",
   "execution_count": 11,
   "id": "a0fd6f77",
   "metadata": {},
   "outputs": [
    {
     "data": {
      "text/plain": [
       "0       def is_json_serializable(val):\\n    json_seria...\n",
       "1       def convert_to_idn(url):\\n    import idna\\n\\n ...\n",
       "2       def add_toc_hook(md, min_level=1, max_level=3,...\n",
       "3       def table_in_quote(md):\\n    md.block.rules.in...\n",
       "4       # Completion path\\n`Text-Processing/mistune/sr...\n",
       "                              ...                        \n",
       "1776    def attach(self, instance_id, device, dry_run=...\n",
       "1777    def fully_qualify_hdfs_path(path):\\n    if pat...\n",
       "1778    def from_traceback(cls, tb=None, limit=None):\\...\n",
       "1779    def items(self) -> t.Iterable[t.Tuple[t.Any, t...\n",
       "1780    def register(self, refresh_token):\\n    cursor...\n",
       "Name: completion, Length: 1781, dtype: object"
      ]
     },
     "execution_count": 11,
     "metadata": {},
     "output_type": "execute_result"
    }
   ],
   "source": [
    "output[\"completion\"]"
   ]
  }
 ],
 "metadata": {
  "kernelspec": {
   "display_name": ".venv",
   "language": "python",
   "name": "python3"
  },
  "language_info": {
   "codemirror_mode": {
    "name": "ipython",
    "version": 3
   },
   "file_extension": ".py",
   "mimetype": "text/x-python",
   "name": "python",
   "nbconvert_exporter": "python",
   "pygments_lexer": "ipython3",
   "version": "3.11.9"
  }
 },
 "nbformat": 4,
 "nbformat_minor": 5
}
