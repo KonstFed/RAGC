{
 "cells": [
  {
   "cell_type": "code",
   "execution_count": 1,
   "id": "4e8975fa",
   "metadata": {},
   "outputs": [],
   "source": [
    "import pandas as pd\n",
    "import black\n",
    "\n",
    "from ragc.graphs.ast_tools import extract_function_info, PythonExtractHelper, to_zero_ident"
   ]
  },
  {
   "cell_type": "code",
   "execution_count": 2,
   "id": "9b622b5d",
   "metadata": {},
   "outputs": [],
   "source": [
    "\n",
    "# with ope\n",
    "with open(\"/Users/konstfed/Documents/diplom/RAGC/data/evocodebench/data.jsonl\") as f:\n",
    "    tasks = pd.read_json(f, lines=True)"
   ]
  },
  {
   "cell_type": "code",
   "execution_count": 3,
   "id": "086bafba",
   "metadata": {},
   "outputs": [],
   "source": [
    "# with ope\n",
    "with open(\"/Users/konstfed/Documents/diplom/RAGC/ragc/generate/output.jsonl\") as f:\n",
    "    output = pd.read_json(f, lines=True)\n",
    "    \n",
    "output_raw = output.copy()"
   ]
  },
  {
   "cell_type": "code",
   "execution_count": 4,
   "id": "e06464f1",
   "metadata": {},
   "outputs": [
    {
     "data": {
      "text/plain": [
       "1781"
      ]
     },
     "execution_count": 4,
     "metadata": {},
     "output_type": "execute_result"
    }
   ],
   "source": [
    "len(output)"
   ]
  },
  {
   "cell_type": "code",
   "execution_count": 5,
   "id": "1cda0e88",
   "metadata": {},
   "outputs": [
    {
     "data": {
      "text/plain": [
       "'```python\\n@classmethod\\ndef get_data_dir(cls, config: Config) -> Path:\\n    \"\"\"Get or create the extension\\'s data directory.\"\"\"\\n    path = cls.get_conf_path(config).parent / \"data\"\\n    path.mkdir(exist_ok=True)\\n    return path\\n```'"
      ]
     },
     "execution_count": 5,
     "metadata": {},
     "output_type": "execute_result"
    }
   ],
   "source": [
    "output[\"completion\"].iloc[1000]"
   ]
  },
  {
   "cell_type": "code",
   "execution_count": 6,
   "id": "b5ea6a2d",
   "metadata": {},
   "outputs": [],
   "source": [
    "helper = PythonExtractHelper()\n",
    "\n",
    "def cleaning(code: str) -> str:\n",
    "    code = code.replace(\"[PYTHON]\", \"\").replace(\"[/PYTHON]\", \"\")\n",
    "    code = code.strip()\n",
    "    code = code.strip(\"[PYTHON]\").strip(\"[/PYTHON]\")\n",
    "    code = code.strip(\"```python\").strip(\"``python\").strip(\"`python\")\n",
    "    code = code.strip(\"`\").strip()\n",
    "    code = to_zero_ident(code)\n",
    "    try:\n",
    "        code = black.format_str(code, mode=black.Mode())\n",
    "        code = helper.extract_body(code)\n",
    "    finally:\n",
    "        return code\n",
    "\n",
    "output[\"completion\"] = output[\"completion\"].apply(cleaning)"
   ]
  },
  {
   "cell_type": "code",
   "execution_count": 22,
   "id": "c4f25de0",
   "metadata": {},
   "outputs": [
    {
     "name": "stdout",
     "output_type": "stream",
     "text": [
      "# Completion path\n",
      "`Database/alembic/alembic/script/write_hooks.py`\n",
      "\n",
      "# Namespace\n",
      "`alembic.script.write_hooks.register`\n",
      "\n",
      "# Requirements\n",
      "## Functionality\n",
      "This function is a function decorator that registers the function as a write hook. It adds the function to the registry with the given name.## Arguments\n",
      ":param name: String. The name to register the function with.\n",
      ":return: Callable. A callable function that registers the input function.\n",
      "\n",
      "# Function signature\n",
      "```\n",
      "def register(name: str) -> Callable:\n",
      "```\n",
      "# Answer format\n",
      "It is very important, that your answer should only include a function body without additional text and explanations of any kind.\n",
      "\n",
      "    _registry = {}\n",
      "    \n",
      "    def register(name: str) -> Callable:\n",
      "        \"\"\"Register the decorated function as a write hook.\"\"\"\n",
      "        \n",
      "        def decorator(func: Callable) -> None:\n",
      "            if name in _registry:\n",
      "                raise ValueError(f\"Hook {name} is already registered\")\n",
      "            _registry[name] = func\n",
      "            return func\n",
      "        \n",
      "        return decorator\n"
     ]
    }
   ],
   "source": [
    "print(output[output[\"namespace\"] == \"alembic.script.write_hooks.register\"][\"completion\"].iloc[0])"
   ]
  },
  {
   "cell_type": "code",
   "execution_count": null,
   "id": "ed198ebe",
   "metadata": {},
   "outputs": [],
   "source": [
    "output"
   ]
  },
  {
   "cell_type": "code",
   "execution_count": 14,
   "id": "4618bee9",
   "metadata": {},
   "outputs": [],
   "source": [
    "output[\"idx\"] = 0\n"
   ]
  },
  {
   "cell_type": "code",
   "execution_count": 17,
   "id": "a01f64cd",
   "metadata": {},
   "outputs": [],
   "source": [
    "jsonl_data = output.to_json(orient='records', lines=True)\n",
    "\n",
    "with open('completion.jsonl', 'w') as f:\n",
    "    f.write(jsonl_data)"
   ]
  },
  {
   "cell_type": "code",
   "execution_count": 7,
   "id": "699b43dd",
   "metadata": {},
   "outputs": [],
   "source": [
    "helper = PythonExtractHelper()"
   ]
  },
  {
   "cell_type": "code",
   "execution_count": 8,
   "id": "9a5fdd3e",
   "metadata": {},
   "outputs": [
    {
     "name": "stdout",
     "output_type": "stream",
     "text": [
      "if len(iterable) == 0:\n",
      "    return\n",
      "for i in range(0, len(iterable), n):\n",
      "    yield iterable[i : i + n], (i + n) >= len(iterable)\n"
     ]
    }
   ],
   "source": [
    "print(output[\"completion\"].iloc[100])"
   ]
  },
  {
   "cell_type": "code",
   "execution_count": 9,
   "id": "d70baba0",
   "metadata": {},
   "outputs": [
    {
     "name": "stdout",
     "output_type": "stream",
     "text": [
      "import unicodedata\n",
      "\n",
      "filename = (\n",
      "    unicodedata.normalize(\"NFKD\", filename).encode(\"ascii\", \"ignore\").decode(\"asci\")\n",
      ")\n",
      "filename = filename.strip().replace(\" \", \"_\")\n",
      "filename = filename.lstrip(\".\")\n",
      "return \"_\" + filename if filename.startswith(\".\") else filename\n"
     ]
    }
   ],
   "source": [
    "print(output[\"completion\"].iloc[1211])"
   ]
  },
  {
   "cell_type": "code",
   "execution_count": 10,
   "id": "976c54e3",
   "metadata": {},
   "outputs": [
    {
     "data": {
      "text/plain": [
       "'import unicodedata\\n\\nfilename = (\\n    unicodedata.normalize(\"NFKD\", filename).encode(\"ascii\", \"ignore\").decode(\"asci\")\\n)\\nfilename = filename.strip().replace(\" \", \"_\")\\nfilename = filename.lstrip(\".\")\\nreturn \"_\" + filename if filename.startswith(\".\") else filename'"
      ]
     },
     "execution_count": 10,
     "metadata": {},
     "output_type": "execute_result"
    }
   ],
   "source": [
    "to_zero_ident(output[\"completion\"].iloc[1211])"
   ]
  },
  {
   "cell_type": "code",
   "execution_count": 11,
   "id": "1eb72d62",
   "metadata": {},
   "outputs": [],
   "source": [
    "import unicodedata\n",
    "filename = \"\"\n",
    "filename = (\n",
    "        unicodedata.normalize(\"NFKD\", filename).encode(\"ascii\", \"ignore\").decode(\"asci\")\n",
    "    )"
   ]
  },
  {
   "cell_type": "code",
   "execution_count": 12,
   "id": "7d69b9cf",
   "metadata": {},
   "outputs": [
    {
     "data": {
      "text/plain": [
       "'import unicodedata\\n\\nfilename = (\\n    unicodedata.normalize(\"NFKD\", filename).encode(\"ascii\", \"ignore\").decode(\"asci\")\\n)\\nfilename = filename.strip().replace(\" \", \"_\")\\nfilename = filename.lstrip(\".\")\\nreturn \"_\" + filename if filename.startswith(\".\") else filename\\n'"
      ]
     },
     "execution_count": 12,
     "metadata": {},
     "output_type": "execute_result"
    }
   ],
   "source": [
    "black.format_str(output[\"completion\"].iloc[1211], mode=black.Mode())\n"
   ]
  },
  {
   "cell_type": "code",
   "execution_count": 9,
   "id": "8df51fc6",
   "metadata": {},
   "outputs": [
    {
     "name": "stdout",
     "output_type": "stream",
     "text": [
      "\n"
     ]
    }
   ],
   "source": [
    "ident_body = helper.extract_body(output[\"completion\"].iloc[1211])\n",
    "black.format_str(ident_body, mode=black.Mode())\n",
    "print(ident_body)"
   ]
  },
  {
   "cell_type": "code",
   "execution_count": 10,
   "id": "e19621cf",
   "metadata": {},
   "outputs": [
    {
     "data": {
      "text/plain": [
       "('get_data_dir(cls, config)', \"Get or create the extension's data directory.\")"
      ]
     },
     "execution_count": 10,
     "metadata": {},
     "output_type": "execute_result"
    }
   ],
   "source": [
    "extract_function_info(output[\"completion\"].iloc[1000])"
   ]
  },
  {
   "cell_type": "code",
   "execution_count": 11,
   "id": "a0fd6f77",
   "metadata": {},
   "outputs": [
    {
     "data": {
      "text/plain": [
       "0       def is_json_serializable(val):\\n    json_seria...\n",
       "1       def convert_to_idn(url):\\n    import idna\\n\\n ...\n",
       "2       def add_toc_hook(md, min_level=1, max_level=3,...\n",
       "3       def table_in_quote(md):\\n    md.block.rules.in...\n",
       "4       # Completion path\\n`Text-Processing/mistune/sr...\n",
       "                              ...                        \n",
       "1776    def attach(self, instance_id, device, dry_run=...\n",
       "1777    def fully_qualify_hdfs_path(path):\\n    if pat...\n",
       "1778    def from_traceback(cls, tb=None, limit=None):\\...\n",
       "1779    def items(self) -> t.Iterable[t.Tuple[t.Any, t...\n",
       "1780    def register(self, refresh_token):\\n    cursor...\n",
       "Name: completion, Length: 1781, dtype: object"
      ]
     },
     "execution_count": 11,
     "metadata": {},
     "output_type": "execute_result"
    }
   ],
   "source": [
    "output[\"completion\"]"
   ]
  }
 ],
 "metadata": {
  "kernelspec": {
   "display_name": ".venv",
   "language": "python",
   "name": "python3"
  },
  "language_info": {
   "codemirror_mode": {
    "name": "ipython",
    "version": 3
   },
   "file_extension": ".py",
   "mimetype": "text/x-python",
   "name": "python",
   "nbconvert_exporter": "python",
   "pygments_lexer": "ipython3",
   "version": "3.11.9"
  }
 },
 "nbformat": 4,
 "nbformat_minor": 5
}
